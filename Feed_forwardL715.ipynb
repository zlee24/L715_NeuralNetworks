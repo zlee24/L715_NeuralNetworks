{
  "cells": [
    {
      "cell_type": "code",
      "execution_count": 57,
      "metadata": {
        "trusted": true
      },
      "outputs": [
        {
          "name": "stdout",
          "output_type": "stream",
          "text": [
            "{'.': 0, '<BOS>': 1, '<EOS>': 2, '<PAD>': 3, '?': 4, 'again': 5, 'am': 6, 'are': 7, 'england': 8, 'greece': 9, 'he': 10, 'here': 11, 'i': 12, 'in': 13, 'is': 14, 'mexico': 15, 'she': 16, 'still': 17, 'tired': 18, 'were': 19, 'where': 20, 'you': 21}\n",
            "(75, 2)\n",
            "(75,)\n",
            "(75, 22)\n",
            "---\n",
            "(2, 6)\n",
            "(6, 22)\n"
          ]
        }
      ],
      "source": [
        "import re \n",
        "import numpy as np\n",
        "from matplotlib import pyplot as plt\n",
        "\n",
        "np.random.seed(3)\n",
        "\n",
        "test_text = '''where are you?\n",
        "is she in mexico?\n",
        "i am in greece.\n",
        "she is in mexico.\n",
        "is she in england?\n",
        "'''\n",
        "\n",
        "train_text = '''are you still here?\n",
        "where are you?\n",
        "he is in mexico.\n",
        "are you tired?\n",
        "i am tired.\n",
        "are you in england?\n",
        "were you in mexico?\n",
        "is he in greece?\n",
        "were you in england?\n",
        "are you in mexico?\n",
        "i am in mexico.\n",
        "are you still in mexico? \n",
        "are you in greece again?\n",
        "she is in england.\n",
        "he is tired.\n",
        "'''\n",
        "\n",
        "def tokenise(s):\n",
        "    return [i for i in re.sub('([.?])', ' \\g<1>', s).strip().split(' ') if i]\n",
        "\n",
        "def one_hot(y, classes):\n",
        "    onehot = np.zeros((len(y), classes)) # creates matrix of ? rows, ? columns \n",
        "    \n",
        "    # Iterate through y and update onehot's column to 1 based on the class\n",
        "    # y [0, 1, 4, 3, 2]\n",
        "    for i, v in enumerate(y):\n",
        "        onehot[i][v] = 1\n",
        "    return onehot\n",
        "\n",
        "vocab = list(set([token for token in re.sub('([.?])', ' \\g<1>', train_text)\n",
        "             .replace(' ', '\\n').strip().split('\\n') if token]))\n",
        "vocab += ['<BOS>', '<EOS>', '<PAD>']\n",
        "vocab.sort()\n",
        "\n",
        "word2idx = {word: idx for idx, word in enumerate(vocab)}\n",
        "idx2word = {idx: word for word, idx in word2idx.items()}\n",
        "\n",
        "print(word2idx)\n",
        "\n",
        "pad = max([len(tokenise(i)) for i in train_text.split('\\n')]) + 1\n",
        "train_sentences = []\n",
        "for line in train_text.strip().split('\\n'):\n",
        "        tokens = tokenise(line)\n",
        "        padded = ['<BOS>'] + tokens + ['<EOS>'] + ['<PAD>'] * (pad - len(tokens))\n",
        "        train_sentences.append([word2idx[token] for token in padded])\n",
        "\n",
        "X = []\n",
        "y = []\n",
        "\n",
        "for sentence in train_sentences:\n",
        "    for i in range(pad - 2):\n",
        "            X.append([sentence[i], sentence[i+1]])\n",
        "            y.append(sentence[i+2])\n",
        "                  \n",
        "X = np.array(X)\n",
        "Y = np.array(y)\n",
        "Yo = one_hot(Y, len(vocab))\n",
        "\n",
        "print(X.shape)\n",
        "print(Y.shape)\n",
        "print(Yo.shape)\n",
        "print('---')\n",
        "w1 = np.random.randn(2, 6) \n",
        "w2 = np.random.randn(6, len(vocab)) \n",
        "\n",
        "print(w1.shape)\n",
        "print(w2.shape)\n",
        "\n",
        "bias = np.array(np.ones(6))\n",
        "learning_rate = .001\n"
      ]
    },
    {
      "cell_type": "code",
      "execution_count": 58,
      "metadata": {
        "trusted": true
      },
      "outputs": [],
      "source": [
        "test_sentences = []\n",
        "for line in test_text.strip().split('\\n'):\n",
        "        tokens = tokenise(line)\n",
        "        padded = ['<BOS>'] + tokens + ['<EOS>'] + ['<PAD>'] * (pad - len(tokens))\n",
        "        test_sentences.append([word2idx[token] for token in padded])\n",
        "\n",
        "X_test = []\n",
        "y_test = []\n",
        "\n",
        "for sentence in test_sentences:\n",
        "    for i in range(pad - 2):\n",
        "            X_test.append([sentence[i], sentence[i+1]])\n",
        "            y_test.append(sentence[i+2])\n",
        "                  \n",
        "X_test = np.array(X_test)\n",
        "Y_test = np.array(y_test)\n",
        "# Yo = one_hot(Y, len(vocab))\n"
      ]
    },
    {
      "cell_type": "code",
      "execution_count": 59,
      "metadata": {
        "trusted": true
      },
      "outputs": [],
      "source": [
        "def softmax(z):\n",
        "    # Stabilizing softmax by z - np.max(z)\n",
        "    # Calculating the exponential of z\n",
        "    exps = np.exp(z - np.max(z))\n",
        "    # Returning exp/ Sum(exp)\n",
        "    return exps / np.sum(exps)\n",
        "\n",
        "def cross_entropy(pred, true):\n",
        "    # True labels X log of predicted labels\n",
        "    losses = np.multiply(true, np.log(pred))\n",
        "    # Calculating the mean of cross entropy\n",
        "    # Multiplying by -ve to get a final +ve value (?)\n",
        "    total_loss = -np.sum(losses)/true.shape[0]\n",
        "    return losses, total_loss\n",
        "\n",
        "def sigmoid(x):\n",
        "    # Calculating 1 / 1 + exp(x)\n",
        "    return 1/(1 + np.exp(-x))\n",
        "\n",
        "def predict(X, w1, w2, bias): \n",
        "    # First layer ( X*W1 + B)\n",
        "    pre1 = np.dot(X, w1) + bias\n",
        "    # Activation function on First layer = Hidden Layer\n",
        "    activation1 = sigmoid(pre1)\n",
        "    # Second layer (Activation1 * w2)\n",
        "    pre2 = np.dot(activation1, w2)\n",
        "    # Activation function on second layer = (output layer)\n",
        "    y_hat = softmax(pre2)\n",
        "    \n",
        "    # Returning output layer and hidden layer\n",
        "    return y_hat, activation1\n",
        "\n",
        "def generate(w1, w2, bias, prefix):\n",
        "    # Converting our word input into numerical representation\n",
        "    # ids = [word2idx[token] for token in prefix]\n",
        "    # ids = []\n",
        "    # for token in prefix:\n",
        "        # ids.append(word2idx[token])\n",
        "    # Creating array for input to the neural network model\n",
        "    X = np.array(prefix)\n",
        "    \n",
        "    # Finding the output of the neural network\n",
        "    y_hat, act1 = predict(X, w1, w2, bias)\n",
        "    \n",
        "    # Returning the word for the numerical output with the highest probability\n",
        "    # return idx2word[np.argmax(y_hat)]\n",
        "    return np.argmax(y_hat)"
      ]
    },
    {
      "cell_type": "code",
      "execution_count": 60,
      "metadata": {
        "trusted": true
      },
      "outputs": [
        {
          "data": {
            "text/plain": [
              "[<matplotlib.lines.Line2D at 0x45f0688>]"
            ]
          },
          "execution_count": 60,
          "metadata": {},
          "output_type": "execute_result"
        },
        {
          "data": {
            "image/png": "[encoded data removed]",
            "text/plain": [
              "<Figure size 640x480 with 1 Axes>"
            ]
          },
          "metadata": {},
          "output_type": "display_data"
        }
      ],
      "source": [
        "epochs = 60\n",
        "all_losses = []\n",
        "\n",
        "for i in range(epochs):\n",
        "    # for every epoch, do the feed forward pass\n",
        "    y_hat, activation1 = predict(X, w1, w2, bias)\n",
        "    \n",
        "    # Calculate loss after forward pass\n",
        "    losses, total_loss = cross_entropy(y_hat, Yo)\n",
        "    # Collecting the losses for every epoch in a list\n",
        "    all_losses.append(total_loss)\n",
        "    \n",
        "    # Calculating gradients\n",
        "    # Gradient of cross entropy loss w.r.t softmax activtion function = Y_hat - Yo\n",
        "    diff = y_hat - Yo\n",
        "    # Gradient of w2 = gradient of cross entroy * output of hidden layer (activation1)\n",
        "    der_L_w2 = np.transpose(np.transpose(diff) @ activation1)\n",
        "    # Gradient of sigmoid activation function\n",
        "    der_sigmoid = activation1 * (1 - activation1)  # 75 X 6\n",
        "    # Gradient of w1 = gradient of cross entropy * weights of output layer * gradeint of sigmoid * input layer\n",
        "    der_L_w1 = np.transpose((diff @ w2.T) * der_sigmoid) @ X  \n",
        "    # Gradient of bias1 = gradient of cross entropy * weights of output layer * gradeint of sigmoid\n",
        "    der_bias = np.sum(np.transpose((diff @ w2.T) * der_sigmoid), axis = 1) # 6 X 75 , after sum its 6 \n",
        "    \n",
        "    # Updating w1, bias1, w2 by learning rate\n",
        "    w1 -= learning_rate * der_L_w1.T\n",
        "    w2 -= learning_rate * der_L_w2\n",
        "    bias -= learning_rate * der_bias.T\n",
        "    \n",
        "# Plotting the losses    \n",
        "plt.plot(all_losses)\n",
        "    \n"
      ]
    },
    {
      "cell_type": "code",
      "execution_count": 61,
      "metadata": {
        "trusted": true
      },
      "outputs": [
        {
          "ename": "<class 'ValueError'>",
          "evalue": "data type must provide an itemsize",
          "output_type": "error",
          "traceback": [
            "\u001b[0;31m---------------------------------------------------------------------------\u001b[0m",
            "\u001b[0;31mValueError\u001b[0m                                Traceback (most recent call last)",
            "Cell \u001b[0;32mIn[61], line 1\u001b[0m\n\u001b[0;32m----> 1\u001b[0m next_word \u001b[38;5;241m=\u001b[39m \u001b[43mgenerate\u001b[49m\u001b[43m(\u001b[49m\u001b[43mw1\u001b[49m\u001b[43m,\u001b[49m\u001b[43m \u001b[49m\u001b[43mw2\u001b[49m\u001b[43m,\u001b[49m\u001b[43m \u001b[49m\u001b[43mbias\u001b[49m\u001b[43m,\u001b[49m\u001b[43m \u001b[49m\u001b[43m[\u001b[49m\u001b[38;5;124;43m'\u001b[39;49m\u001b[38;5;124;43mi\u001b[39;49m\u001b[38;5;124;43m'\u001b[39;49m\u001b[43m,\u001b[49m\u001b[43m \u001b[49m\u001b[38;5;124;43m'\u001b[39;49m\u001b[38;5;124;43mam\u001b[39;49m\u001b[38;5;124;43m'\u001b[39;49m\u001b[43m]\u001b[49m\u001b[43m)\u001b[49m\n\u001b[1;32m      2\u001b[0m \u001b[38;5;28mprint\u001b[39m(next_word)\n",
            "Cell \u001b[0;32mIn[59], line 43\u001b[0m, in \u001b[0;36mgenerate\u001b[0;34m(w1, w2, bias, prefix)\u001b[0m\n\u001b[1;32m     40\u001b[0m X \u001b[38;5;241m=\u001b[39m np\u001b[38;5;241m.\u001b[39marray(prefix)\n\u001b[1;32m     42\u001b[0m \u001b[38;5;66;03m# Finding the output of the neural network\u001b[39;00m\n\u001b[0;32m---> 43\u001b[0m y_hat, act1 \u001b[38;5;241m=\u001b[39m \u001b[43mpredict\u001b[49m\u001b[43m(\u001b[49m\u001b[43mX\u001b[49m\u001b[43m,\u001b[49m\u001b[43m \u001b[49m\u001b[43mw1\u001b[49m\u001b[43m,\u001b[49m\u001b[43m \u001b[49m\u001b[43mw2\u001b[49m\u001b[43m,\u001b[49m\u001b[43m \u001b[49m\u001b[43mbias\u001b[49m\u001b[43m)\u001b[49m\n\u001b[1;32m     45\u001b[0m \u001b[38;5;66;03m# Returning the word for the numerical output with the highest probability\u001b[39;00m\n\u001b[1;32m     46\u001b[0m \u001b[38;5;66;03m# return idx2word[np.argmax(y_hat)]\u001b[39;00m\n\u001b[1;32m     47\u001b[0m \u001b[38;5;28;01mreturn\u001b[39;00m np\u001b[38;5;241m.\u001b[39margmax(y_hat)\n",
            "Cell \u001b[0;32mIn[59], line 22\u001b[0m, in \u001b[0;36mpredict\u001b[0;34m(X, w1, w2, bias)\u001b[0m\n\u001b[1;32m     20\u001b[0m \u001b[38;5;28;01mdef\u001b[39;00m \u001b[38;5;21mpredict\u001b[39m(X, w1, w2, bias): \n\u001b[1;32m     21\u001b[0m     \u001b[38;5;66;03m# First layer ( X*W1 + B)\u001b[39;00m\n\u001b[0;32m---> 22\u001b[0m     pre1 \u001b[38;5;241m=\u001b[39m \u001b[43mnp\u001b[49m\u001b[38;5;241;43m.\u001b[39;49m\u001b[43mdot\u001b[49m\u001b[43m(\u001b[49m\u001b[43mX\u001b[49m\u001b[43m,\u001b[49m\u001b[43m \u001b[49m\u001b[43mw1\u001b[49m\u001b[43m)\u001b[49m \u001b[38;5;241m+\u001b[39m bias\n\u001b[1;32m     23\u001b[0m     \u001b[38;5;66;03m# Activation function on First layer = Hidden Layer\u001b[39;00m\n\u001b[1;32m     24\u001b[0m     activation1 \u001b[38;5;241m=\u001b[39m sigmoid(pre1)\n",
            "File \u001b[0;32m<__array_function__ internals>:180\u001b[0m, in \u001b[0;36mdot\u001b[0;34m(*args, **kwargs)\u001b[0m\n",
            "\u001b[0;31mValueError\u001b[0m: data type must provide an itemsize"
          ]
        }
      ],
      "source": [
        "next_word = generate(w1, w2, bias, ['i', 'am'])\n",
        "print(next_word)"
      ]
    },
    {
      "cell_type": "code",
      "execution_count": 62,
      "metadata": {
        "trusted": true
      },
      "outputs": [
        {
          "name": "stdout",
          "output_type": "stream",
          "text": [
            "13 7\n",
            "['<BOS>', 'where'] -> in\n",
            "19 21\n",
            "['where', 'are'] -> were\n",
            "19 4\n",
            "['are', 'you'] -> were\n",
            "19 2\n",
            "['you', '?'] -> were\n",
            "19 3\n",
            "['?', '<EOS>'] -> were\n",
            "13 16\n",
            "['<BOS>', 'is'] -> in\n",
            "19 13\n",
            "['is', 'she'] -> were\n",
            "19 15\n",
            "['she', 'in'] -> were\n",
            "19 4\n",
            "['in', 'mexico'] -> were\n",
            "19 2\n",
            "['mexico', '?'] -> were\n",
            "19 6\n",
            "['<BOS>', 'i'] -> were\n",
            "19 13\n",
            "['i', 'am'] -> were\n",
            "19 9\n",
            "['am', 'in'] -> were\n",
            "19 0\n",
            "['in', 'greece'] -> were\n",
            "19 2\n",
            "['greece', '.'] -> were\n",
            "13 14\n",
            "['<BOS>', 'she'] -> in\n",
            "19 13\n",
            "['she', 'is'] -> were\n",
            "19 15\n",
            "['is', 'in'] -> were\n",
            "19 0\n",
            "['in', 'mexico'] -> were\n",
            "19 2\n",
            "['mexico', '.'] -> were\n",
            "13 16\n",
            "['<BOS>', 'is'] -> in\n",
            "19 13\n",
            "['is', 'she'] -> were\n",
            "19 8\n",
            "['she', 'in'] -> were\n",
            "19 4\n",
            "['in', 'england'] -> were\n",
            "19 2\n",
            "['england', '?'] -> were\n",
            "0 / 25\n"
          ]
        }
      ],
      "source": [
        "total = 0\n",
        "correct = 0\n",
        "for prefix, y in zip(X_test, Y_test):\n",
        "    next_word = generate(w1, w2, bias, prefix)\n",
        "    print(next_word, y)\n",
        "    print([idx2word[token] for token in prefix], '->', idx2word[next_word])\n",
        "    if next_word == y:\n",
        "        correct += 1\n",
        "    total += 1\n",
        "    \n",
        "print(correct,'/',total)"
      ]
    },
    {
      "cell_type": "code",
      "execution_count": null,
      "metadata": {},
      "outputs": [],
      "source": []
    }
  ],
  "metadata": {
    "kernelspec": {
      "display_name": "Python 3",
      "language": "python",
      "name": "python3"
    },
    "language_info": {
      "codemirror_mode": {
        "name": "python",
        "version": 3
      },
      "file_extension": ".py",
      "mimetype": "text/x-python",
      "name": "python",
      "nbconvert_exporter": "python",
      "pygments_lexer": "ipython3",
      "version": "3.10.9 (main, Dec 15 2022, 10:44:50) [Clang 14.0.0 (clang-1400.0.29.202)]"
    },
    "vscode": {
      "interpreter": {
        "hash": "b0fa6594d8f4cbf19f97940f81e996739fb7646882a419484c72d19e05852a7e"
      }
    }
  },
  "nbformat": 4,
  "nbformat_minor": 4
}
